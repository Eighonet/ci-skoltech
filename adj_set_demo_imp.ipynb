{
 "cells": [
  {
   "cell_type": "code",
   "execution_count": 1,
   "id": "7ddafba3-6ea6-4c8f-96d7-b8d041f609f2",
   "metadata": {},
   "outputs": [],
   "source": [
    "import numpy as np\n",
    "from numpy.random import randn\n",
    "import pandas as pd\n",
    "import seaborn as sns\n",
    "from sklearn.linear_model import LinearRegression"
   ]
  },
  {
   "cell_type": "markdown",
   "id": "3dc61482-ba1b-4847-94df-e9e27b3c35ea",
   "metadata": {},
   "source": [
    "Сгенерируем байесовскую сеть на:\n",
    "\n",
    "\\begin{aligned}\n",
    "    X_1 &= \\epsilon_{X_1} \\\\\n",
    "    X_2 &= \\epsilon_{X_2}\\\\\n",
    "    X_3 &= \\epsilon_{X_3}\\\\\n",
    "    X_4 &= X_5 + \\epsilon_{X_4}\\\\\n",
    "    X_5 &= X_1 + X_2 + \\epsilon_{X_5}\\\\\n",
    "    X_6 &= 0.8* X_5 + X_2 + X_3 + \\epsilon_{X_6}\\\\\n",
    "    X_7 &= 0.8 * X_6 + \\epsilon_{X_7}\\\\\n",
    "    \\forall i = 1, \\dots, 7 &: \\epsilon_{X_i} \\sim N(0,1), \\\\ \\forall i,j = 1, \\dots, 7, i \\neq j&: \\epsilon_{X_i} \\perp\\!\\!\\perp \\epsilon_{X_j}\n",
    "\\end{aligned}"
   ]
  },
  {
   "cell_type": "markdown",
   "id": "94fbb1ca",
   "metadata": {},
   "source": [
    "![title](bn.png)"
   ]
  },
  {
   "cell_type": "code",
   "execution_count": 20,
   "id": "912384ea-9e6c-40ef-972c-aba19a36f7a8",
   "metadata": {},
   "outputs": [],
   "source": [
    "n_samples = 10000\n",
    "n_datasets = 10\n",
    "\n",
    "# Simulate data from the example structural causal model given a seed (for reproducibility):\n",
    "def simulate(seed):   \n",
    "    np.random.default_rng=seed\n",
    "    x1 = randn(n_samples)\n",
    "    x2 = randn(n_samples)\n",
    "    x3 = randn(n_samples)\n",
    "    x5 = x1 + x2 + randn(n_samples)\n",
    "    x4 = x5 + randn(n_samples)\n",
    "    x6 = 0.8*x5 + x2 + x3 + randn(n_samples)\n",
    "    x7 = 0.8 * x6 + randn(n_samples)\n",
    "    return pd.DataFrame({ \"x1\": x1, \"x2\": x2, \"x3\": x3,\"x4\": x4, \"x5\":x5, \"x6\":x6, \"x7\":x7})\n",
    "\n",
    "dfs = []\n",
    "for i in range(1,n_datasets+1):\n",
    "    dfs.append(simulate(i))"
   ]
  },
  {
   "cell_type": "markdown",
   "id": "017cb0ba-c2ae-4ec0-9f24-64e7f5392e38",
   "metadata": {},
   "source": [
    "By using the path coefficients method we can estimate the true causal effect $E[X_7|\\mathrm{do}(X_5=1)] - E[X_7|\\mathrm{do}(X_5=0)] = 0.8^2 = 0.64$. \n",
    "\n",
    "We can now try to estimate the effect of $X_5$ on $X_7$ in a *naive way*, just by:\n",
    "- regressing $X_7$ on $X_5$ with `LinearRegression` in `scikit-learn`\n",
    "- extracting the linear coefficient of the trained model for $X_5$ \n",
    "\n",
    "We will repeat this estimation on all 2000 datasets and then check the mean and the standard deviation of the estimated coefficient. \n",
    "\n",
    "If the estimator is unbiased, the mean should be close to the true causal effect. We will also generally prefer an estimator with a lower variance.\n",
    "In this case, we already know that this estimator will be biased, since $Z=\\emptyset$ is not a valid adjustment set and we are not adjusting for any variable."
   ]
  },
  {
   "cell_type": "code",
   "execution_count": 21,
   "id": "cdf41c39-2dc2-4a25-a36c-035bb9a29f02",
   "metadata": {},
   "outputs": [
    {
     "name": "stdout",
     "output_type": "stream",
     "text": [
      "0.9068321527428004 7.748704417485252e-05\n"
     ]
    }
   ],
   "source": [
    "unadjusted_coeff = []\n",
    "\n",
    "for i in range(1,n_datasets):\n",
    "    df = dfs[i]\n",
    "    linear_regressor = LinearRegression() \n",
    "    linear_regressor.fit(df[\"x5\"].values.reshape(n_samples, 1), df[\"x7\"].values.reshape(-1, 1))\n",
    "    unadjusted_coeff.append(linear_regressor.coef_)\n",
    "    \n",
    "# Mean and variance of unadjusted estimation\n",
    "print(np.mean(unadjusted_coeff), np.var(unadjusted_coeff))"
   ]
  },
  {
   "cell_type": "markdown",
   "id": "cd26c1fc-9fd4-4ff3-b714-f752c7ad9fd0",
   "metadata": {},
   "source": [
    "As expected the unadjusted regression gives a biased estimator. \n",
    "\n",
    "We will now try to adjust on a valid adjustment set, in this case the parent set of the treatment variable $X_5$, which are the variables $X_1$ and $X_2$, which should give us an unbiased estimator:"
   ]
  },
  {
   "cell_type": "code",
   "execution_count": 22,
   "id": "f717c3bd-8f9d-4f63-b824-aa8ad558b75f",
   "metadata": {},
   "outputs": [
    {
     "name": "stdout",
     "output_type": "stream",
     "text": [
      "0.6389894720735756 7.2632851635428e-05\n"
     ]
    }
   ],
   "source": [
    "parents_coeff = []\n",
    "\n",
    "for i in range(1,n_datasets):\n",
    "    df = dfs[i]\n",
    "    linear_regressor = LinearRegression() \n",
    "    # Using X_1, X_2 and X_5 as inputs to estimate X_7\n",
    "    linear_regressor.fit(df.iloc[:, [0,1,4]].values.reshape(n_samples, 3), df[\"x7\"].values.reshape(-1, 1))\n",
    "    # Select only the coefficient of X_5\n",
    "    parents_coeff.append(linear_regressor.coef_[:,2])\n",
    "    \n",
    "# Mean and variance of parents of treatment estimation (a valid adjustment set):\n",
    "print(np.mean(parents_coeff), np.var(parents_coeff))"
   ]
  },
  {
   "cell_type": "markdown",
   "id": "424c90dd-7102-418c-aed5-4ccf16ca569b",
   "metadata": {},
   "source": [
    "We will now try to adjust on another valid adjustment set, in this case $Z = \\{X_2,X_3\\}$ which should give us an unbiased estimator:"
   ]
  },
  {
   "cell_type": "code",
   "execution_count": 23,
   "id": "a0aac589-d6d0-457f-bd01-134fa7f3af75",
   "metadata": {},
   "outputs": [
    {
     "name": "stdout",
     "output_type": "stream",
     "text": [
      "0.6396874838617765 7.953184827203192e-05\n"
     ]
    }
   ],
   "source": [
    "X2X3_coeff = []\n",
    "\n",
    "for i in range(1,n_datasets):\n",
    "    df = dfs[i]\n",
    "    linear_regressor = LinearRegression() \n",
    "    # Using X_2, X_3 and X_5 as inputs to estimate X_7\n",
    "    linear_regressor.fit(df.iloc[:, [1,2,4]].values.reshape(n_samples, 3), df[\"x7\"].values.reshape(-1, 1))\n",
    "    # Select only the coefficient of X_5\n",
    "    X2X3_coeff.append(linear_regressor.coef_[:,2])\n",
    "    \n",
    "# Mean and variance of using X_2 and X_3 as adjustment (a valid adjustment set):\n",
    "print(np.mean(X2X3_coeff), np.var(X2X3_coeff))"
   ]
  },
  {
   "cell_type": "markdown",
   "id": "bcc6b018-ddb3-4c74-969a-4b60f0edd562",
   "metadata": {},
   "source": [
    "We will now try to adjust on another valid adjustment set, in this case $Z = \\{ X_2,X_3, X_4 \\}$ which should give us an unbiased estimator:"
   ]
  },
  {
   "cell_type": "code",
   "execution_count": 24,
   "id": "fae50482-3f9c-4605-9e20-24c628c02ab6",
   "metadata": {},
   "outputs": [
    {
     "name": "stdout",
     "output_type": "stream",
     "text": [
      "0.6438951084687117 5.829784324242791e-05\n"
     ]
    }
   ],
   "source": [
    "X2X3X4_coeff = []\n",
    "\n",
    "for i in range(1,n_datasets):\n",
    "    df = dfs[i]\n",
    "    linear_regressor = LinearRegression() \n",
    "    # Using X_2, X_3, X_4 and X_5 as inputs to estimate X_7\n",
    "    linear_regressor.fit(df.iloc[:, 1:5].values.reshape(n_samples, 4), df[\"x7\"].values.reshape(-1, 1))\n",
    "    # Select only the coefficient of X_5\n",
    "    X2X3X4_coeff.append(linear_regressor.coef_[:,3])\n",
    "    \n",
    "# Mean and variance of using X_2, X_3 and X_4 as adjustment (a valid adjustment set):\n",
    "print(np.mean(X2X3X4_coeff), np.var(X2X3X4_coeff))"
   ]
  },
  {
   "cell_type": "markdown",
   "id": "dbf378bb-b08e-4e2a-9a86-3f141c32d1d0",
   "metadata": {},
   "source": [
    "While all of these estimators with valid adjustement sets are all unbiased (the mean of the estimator across multiple datasets is close to the mean we can compute with the path method, 0.64), the variance varies across the different adjustment sets. We will not discuss how to choose the optimal adjustment set in the class, but if you are curious there is a recent method for linear models that show how to choose an optimal adjustment set [here](https://arxiv.org/abs/1907.02435) and an even more recent extension [here](https://arxiv.org/abs/2002.06825)."
   ]
  },
  {
   "cell_type": "code",
   "execution_count": 31,
   "id": "ba6e822c-5880-424d-9062-f8848bc0c3f9",
   "metadata": {},
   "outputs": [
    {
     "ename": "IndexError",
     "evalue": "index 3 is out of bounds for axis 1 with size 3",
     "output_type": "error",
     "traceback": [
      "\u001b[1;31m---------------------------------------------------------------------------\u001b[0m",
      "\u001b[1;31mIndexError\u001b[0m                                Traceback (most recent call last)",
      "Cell \u001b[1;32mIn[31], line 9\u001b[0m\n\u001b[0;32m      7\u001b[0m     linear_regressor\u001b[38;5;241m.\u001b[39mfit(df\u001b[38;5;241m.\u001b[39miloc[:, \u001b[38;5;241m1\u001b[39m:\u001b[38;5;241m4\u001b[39m]\u001b[38;5;241m.\u001b[39mvalues\u001b[38;5;241m.\u001b[39mreshape(n_samples, \u001b[38;5;241m3\u001b[39m), df[\u001b[38;5;124m\"\u001b[39m\u001b[38;5;124mx7\u001b[39m\u001b[38;5;124m\"\u001b[39m]\u001b[38;5;241m.\u001b[39mvalues\u001b[38;5;241m.\u001b[39mreshape(\u001b[38;5;241m-\u001b[39m\u001b[38;5;241m1\u001b[39m, \u001b[38;5;241m1\u001b[39m))\n\u001b[0;32m      8\u001b[0m     \u001b[38;5;66;03m# Select only the coefficient of X_5\u001b[39;00m\n\u001b[1;32m----> 9\u001b[0m     X1X2X3X4X5X6_coeff\u001b[38;5;241m.\u001b[39mappend(linear_regressor\u001b[38;5;241m.\u001b[39mcoef_[:,\u001b[38;5;241m3\u001b[39m])\n\u001b[0;32m     11\u001b[0m \u001b[38;5;66;03m# Mean and variance of using X_2, X_3 and X_4 as adjustment (a valid adjustment set):\u001b[39;00m\n\u001b[0;32m     12\u001b[0m \u001b[38;5;28mprint\u001b[39m(np\u001b[38;5;241m.\u001b[39mmean(X1X2X3X4X5X6_coeff), np\u001b[38;5;241m.\u001b[39mvar(X1X2X3X4X5X6_coeff))\n",
      "\u001b[1;31mIndexError\u001b[0m: index 3 is out of bounds for axis 1 with size 3"
     ]
    }
   ],
   "source": [
    "X1X2X3X4X5X6_coeff = []\n",
    "\n",
    "for i in range(1,n_datasets):\n",
    "    df = dfs[i]\n",
    "    linear_regressor = LinearRegression() \n",
    "    # Using X_2, X_3, X_4 and X_5 as inputs to estimate X_7\n",
    "    linear_regressor.fit(df.iloc[:, 0:5].values.reshape(n_samples, 6), df[\"x7\"].values.reshape(-1, 1))\n",
    "    # Select only the coefficient of X_5\n",
    "    X1X2X3X4X5X6_coeff.append(linear_regressor.coef_[:,3])\n",
    "    \n",
    "# Mean and variance of using X_2, X_3 and X_4 as adjustment (a valid adjustment set):\n",
    "print(np.mean(X1X2X3X4X5X6_coeff), np.var(X1X2X3X4X5X6_coeff))"
   ]
  },
  {
   "cell_type": "code",
   "execution_count": null,
   "id": "0f3e6b2a",
   "metadata": {},
   "outputs": [],
   "source": []
  }
 ],
 "metadata": {
  "kernelspec": {
   "display_name": "Python 3 (ipykernel)",
   "language": "python",
   "name": "python3"
  },
  "language_info": {
   "codemirror_mode": {
    "name": "ipython",
    "version": 3
   },
   "file_extension": ".py",
   "mimetype": "text/x-python",
   "name": "python",
   "nbconvert_exporter": "python",
   "pygments_lexer": "ipython3",
   "version": "3.12.4"
  }
 },
 "nbformat": 4,
 "nbformat_minor": 5
}
