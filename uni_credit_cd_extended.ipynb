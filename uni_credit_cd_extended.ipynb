{
 "cells": [
  {
   "cell_type": "code",
   "execution_count": null,
   "id": "f791111d-6997-43d6-9fc3-010900616372",
   "metadata": {},
   "outputs": [],
   "source": [
    "!pip install pyvis -q"
   ]
  },
  {
   "cell_type": "code",
   "execution_count": 105,
   "id": "c6d7baaf-eb86-432d-b6d4-8be93335e529",
   "metadata": {},
   "outputs": [
    {
     "name": "stderr",
     "output_type": "stream",
     "text": [
      "c:\\Users\\eigho\\anaconda4\\envs\\ampy_env_1\\lib\\site-packages\\tqdm\\auto.py:21: TqdmWarning: IProgress not found. Please update jupyter and ipywidgets. See https://ipywidgets.readthedocs.io/en/stable/user_install.html\n",
      "  from .autonotebook import tqdm as notebook_tqdm\n"
     ]
    }
   ],
   "source": [
    "%load_ext autoreload  \n",
    "%autoreload 2\n",
    "    \n",
    "import numpy as np\n",
    "import matplotlib.pyplot as plt\n",
    "import pandas as pd\n",
    "\n",
    "import networkx as nx\n",
    "from causallearn.search.ConstraintBased.PC import pc\n",
    "from causallearn.utils.PCUtils.BackgroundKnowledge import BackgroundKnowledge\n",
    "from scipy.stats import pearsonr\n",
    "from dowhy.utils.plotting import plot\n",
    "from dowhy import identify_effect_auto\n",
    "from dowhy import identify_effect_id\n",
    "\n",
    "from dowhy.causal_identifier.auto_identifier import AutoIdentifier, BackdoorAdjustment, EstimandType\n",
    "\n",
    "\n",
    "from dowhy.causal_estimators.econml import Econml\n",
    "from dowhy.causal_estimators.propensity_score_matching_estimator import PropensityScoreMatchingEstimator\n",
    "from dowhy.causal_estimators.propensity_score_weighting_estimator import PropensityScoreWeightingEstimator\n",
    "from dowhy.causal_estimators.propensity_score_stratification_estimator import PropensityScoreStratificationEstimator\n",
    "from dowhy.causal_estimators.distance_matching_estimator import DistanceMatchingEstimator\n",
    "from dowhy.causal_estimators.linear_regression_estimator import LinearRegressionEstimator \n",
    "from dowhy.causal_graph import CausalGraph\n",
    "\n",
    "from dowhy.causal_refuters import (\n",
    "    refute_bootstrap,\n",
    "    refute_data_subset,\n",
    "    refute_estimate,\n",
    "    refute_dummy_outcome,\n",
    "    refute_placebo_treatment,\n",
    "    refute_random_common_cause,\n",
    "    sensitivity_e_value,\n",
    "    sensitivity_simulation\n",
    ")\n",
    "\n",
    "from dowhy.datasets import linear_dataset\n",
    "\n",
    "from econml.dml import LinearDML\n",
    "from econml.dr import LinearDRLearner \n",
    "from econml.metalearners import SLearner, TLearner, XLearner, DomainAdaptationLearner\n",
    "\n",
    "from sklearn.calibration import CalibratedClassifierCV\n",
    "from sklearn.model_selection import KFold\n",
    "from sklearn.ensemble import RandomForestClassifier, RandomForestRegressor\n",
    "from sklearn.preprocessing import PolynomialFeatures\n",
    "from sklearn.base import BaseEstimator, clone\n",
    "\n",
    "import json\n",
    "\n",
    "import warnings\n",
    "warnings.filterwarnings(\"ignore\")\n",
    "\n",
    "from tqdm import tqdm\n",
    "tqdm.pandas()\n",
    "\n",
    "pd.set_option('display.max_columns', None)\n",
    "np.random.seed(42)"
   ]
  },
  {
   "cell_type": "code",
   "execution_count": 181,
   "id": "de363c63-7c1b-4483-83ca-68a9e92729ef",
   "metadata": {},
   "outputs": [],
   "source": [
    "data = pd.read_csv('UCI_Credit_Card.csv/UCI_Credit_Card.csv', index_col=0)"
   ]
  },
  {
   "cell_type": "markdown",
   "id": "ae570747-7af4-485d-8376-ac2bf45dead5",
   "metadata": {},
   "source": [
    "### Preprocessing"
   ]
  },
  {
   "cell_type": "code",
   "execution_count": 182,
   "id": "832f6807-12cb-48b0-a25b-f46a2870580a",
   "metadata": {},
   "outputs": [],
   "source": [
    "data = data.rename(columns={'default.payment.next.month': 'def_pay', \n",
    "                        'PAY_0': 'PAY_1',\n",
    "                         'LIMIT_BAL': 'CREDIT_AMOUNT'})"
   ]
  },
  {
   "cell_type": "code",
   "execution_count": 183,
   "id": "adf1a70e-0c66-4e73-9f5b-e753cb86a39a",
   "metadata": {},
   "outputs": [],
   "source": [
    "data = data[data['EDUCATION'] > 0]\n",
    "data = data[data['MARRIAGE'] != 3]\n",
    "data = data[data['SEX'] > 0]"
   ]
  },
  {
   "cell_type": "code",
   "execution_count": 24,
   "id": "d2986b02",
   "metadata": {},
   "outputs": [],
   "source": [
    "data['SEX'] = data['SEX'] - 1 "
   ]
  },
  {
   "cell_type": "code",
   "execution_count": 22,
   "id": "20f19e95-545e-44d7-b278-199d7859867e",
   "metadata": {},
   "outputs": [],
   "source": [
    "data = data[data['EDUCATION'] != 6]"
   ]
  },
  {
   "cell_type": "code",
   "execution_count": 25,
   "id": "01665488-33fb-409c-bb6f-6d6e96e15a39",
   "metadata": {},
   "outputs": [],
   "source": [
    "data = data.drop('EDUCATION', axis=1).merge(pd.get_dummies(data['EDUCATION'], prefix='EDU').astype('int'), on='ID')"
   ]
  },
  {
   "cell_type": "code",
   "execution_count": 26,
   "id": "066fee2a-c14e-49de-9293-0d5bed1477c0",
   "metadata": {},
   "outputs": [],
   "source": [
    "data = data.rename(columns={'EDU_1':'EDU_GRADUATE_SCHOOL', 'EDU_2':'EDU_UNIVERSITY', 'EDU_3':'EDU_HIGH_SCHOOL', 'EDU_4':'EDU_OTHER', 'EDU_5':'EDU_UNKNOWN'})"
   ]
  },
  {
   "cell_type": "code",
   "execution_count": 27,
   "id": "3d812b1e-f6c0-4ae1-8b04-65b8dc61a14d",
   "metadata": {},
   "outputs": [],
   "source": [
    "data = data.drop('EDU_UNKNOWN', axis=1)"
   ]
  },
  {
   "cell_type": "markdown",
   "id": "05ac1e61-8325-4523-bdf2-d65509889c6a",
   "metadata": {},
   "source": [
    "### BG generation"
   ]
  },
  {
   "cell_type": "markdown",
   "id": "83813b8b-dd59-4237-8c97-9053730af8d6",
   "metadata": {},
   "source": [
    "Cоздаем матрицу экспертных знаний (aka background knowledge):"
   ]
  },
  {
   "cell_type": "code",
   "execution_count": 29,
   "id": "0afb0afb-2476-41ba-9140-5d96c4125681",
   "metadata": {},
   "outputs": [],
   "source": [
    "bg_map = {i:node for i,node in enumerate(data.columns)}\n",
    "bg_map_r = {node:i for i,node in enumerate(data.columns)}\n",
    "\n",
    "bg = np.zeros((len(data.columns), len(data.columns))) - 1"
   ]
  },
  {
   "cell_type": "markdown",
   "id": "a32b1667-3d16-46eb-a965-45584f6924d7",
   "metadata": {},
   "source": [
    "Для простоты формирования background knowledge объединим переменные в группы:"
   ]
  },
  {
   "cell_type": "code",
   "execution_count": 30,
   "id": "812c109e-08ab-4912-9309-82566cd782b1",
   "metadata": {},
   "outputs": [],
   "source": [
    "demographic_fixed_vars = ['SEX', 'AGE']\n",
    "demographic_other_vars = ['MARRIAGE']\n",
    "education_vars = [col for col in data.columns if 'EDU' in col]\n",
    "credit_desc_vars = ['CREDIT_AMOUNT']\n",
    "target_variables = ['def_pay']\n",
    "\n",
    "payment_vars_1 = [col for col in data.columns if '1' in col]\n",
    "payment_vars_2 = [col for col in data.columns if '2' in col]\n",
    "payment_vars_3 = [col for col in data.columns if '3' in col]\n",
    "payment_vars_4 = [col for col in data.columns if '4' in col]\n",
    "payment_vars_5 = [col for col in data.columns if '5' in col]\n",
    "payment_vars_6 = [col for col in data.columns if '6' in col]\n",
    "\n",
    "payments_vars = [payment_vars_1, payment_vars_2, payment_vars_3, payment_vars_4, payment_vars_5, payment_vars_6]"
   ]
  },
  {
   "cell_type": "markdown",
   "id": "4b275bc8-40c7-4170-9c0f-b669d8cb52c0",
   "metadata": {},
   "source": [
    "Избавляемся от направленных ребер в прошлое из будущего:"
   ]
  },
  {
   "cell_type": "code",
   "execution_count": 31,
   "id": "85f039fc-c4d1-4504-b0e7-889efe2f9647",
   "metadata": {},
   "outputs": [],
   "source": [
    "for i, payment_var in enumerate(payments_vars):\n",
    "    for v_from in payment_var:\n",
    "        for v_to in np.reshape(payments_vars[i+1:], -1):\n",
    "            bg[bg_map_r[v_from]][bg_map_r[v_to]] = 0\n",
    "\n",
    "for v_from in target_variables:\n",
    "    for v_to in np.reshape(payments_vars, -1):\n",
    "        bg[bg_map_r[v_from]][bg_map_r[v_to]] = 0\n",
    "\n",
    "for v_from in target_variables:\n",
    "    for v_to in demographic_fixed_vars + demographic_other_vars:\n",
    "        bg[bg_map_r[v_from]][bg_map_r[v_to]] = 0\n",
    "\n",
    "for v_from in np.reshape(payments_vars, -1):\n",
    "    for v_to in credit_desc_vars:\n",
    "        bg[bg_map_r[v_from]][bg_map_r[v_to]] = 0"
   ]
  },
  {
   "cell_type": "markdown",
   "id": "2f3ff00e-09e7-4600-a74e-777e4fb934eb",
   "metadata": {},
   "source": [
    "Избавляемся от направленных ребер в демографические переменные:"
   ]
  },
  {
   "cell_type": "code",
   "execution_count": 32,
   "id": "cf1c1a60-9c59-417e-bdc9-130b743c5060",
   "metadata": {},
   "outputs": [],
   "source": [
    "for v_to in demographic_fixed_vars:\n",
    "    for v_from in np.reshape(payments_vars, -1):\n",
    "        bg[bg_map_r[v_from]][bg_map_r[v_to]] = 0\n",
    "    \n",
    "    for v_from in credit_desc_vars:\n",
    "        bg[bg_map_r[v_from]][bg_map_r[v_to]] = 0\n",
    "\n",
    "    for v_from in education_vars:\n",
    "        bg[bg_map_r[v_from]][bg_map_r[v_to]] = 0\n",
    "\n",
    "    for v_from in demographic_other_vars + target_variables:\n",
    "        bg[bg_map_r[v_from]][bg_map_r[v_to]] = 0"
   ]
  },
  {
   "cell_type": "markdown",
   "id": "dd5aa665-0fd6-47bf-a102-f22ec83a5d50",
   "metadata": {},
   "source": [
    "Удаляем связи типа 'переменные баланса -> образование':"
   ]
  },
  {
   "cell_type": "code",
   "execution_count": 33,
   "id": "3f39d477-b9b3-414a-ac78-6b41e1c08b51",
   "metadata": {},
   "outputs": [],
   "source": [
    "for v_from in np.reshape(payments_vars, -1):\n",
    "    for v_to in education_vars:\n",
    "        bg[bg_map_r[v_from]][bg_map_r[v_to]] = 0\n",
    "\n",
    "for v_from in credit_desc_vars:\n",
    "    for v_to in education_vars:\n",
    "        bg[bg_map_r[v_from]][bg_map_r[v_to]] = 0"
   ]
  },
  {
   "cell_type": "markdown",
   "id": "3e67835b-bf3d-437c-b1ce-15b7bcba77a1",
   "metadata": {},
   "source": [
    "Скоррелированы, но не связаны (существует конфаундер вне датасета):"
   ]
  },
  {
   "cell_type": "code",
   "execution_count": 34,
   "id": "adde1582-5dbc-4375-b71d-4b9902c0d499",
   "metadata": {},
   "outputs": [],
   "source": [
    " bg[bg_map_r['AGE']][bg_map_r['SEX']] = 0\n",
    " bg[bg_map_r['SEX']][bg_map_r['AGE']] = 0"
   ]
  },
  {
   "cell_type": "code",
   "execution_count": 35,
   "id": "e7890a2a",
   "metadata": {},
   "outputs": [],
   "source": [
    "data.to_csv('uci_processed.csv')"
   ]
  },
  {
   "cell_type": "markdown",
   "id": "1d74c734-4a97-46ff-a33d-c922200cd6ab",
   "metadata": {},
   "source": [
    "### Causal discovery"
   ]
  },
  {
   "cell_type": "code",
   "execution_count": 42,
   "id": "9c656bd4-31bc-423c-baa0-abe36c4b79c9",
   "metadata": {},
   "outputs": [
    {
     "name": "stderr",
     "output_type": "stream",
     "text": [
      "Depth=13, working on node 26: 100%|██████████| 27/27 [00:00<00:00, 636.53it/s]\n",
      "Depth=13, working on node 26: 100%|██████████| 27/27 [00:00<00:00, 567.16it/s]\n"
     ]
    }
   ],
   "source": [
    "alpha = 0.001\n",
    "ci_test = 'fisherz'\n",
    "\n",
    "g = pc(data.values, alpha=alpha, ci_test=ci_test)\n",
    "bk = get_bk(g, bg)\n",
    "g = pc(data.values, alpha=alpha, ci_test=ci_test, background_knowledge=bk)\n",
    "\n",
    "g.to_nx_graph()\n",
    "\n",
    "cg = g\n",
    "g = nx.relabel_nodes(g.nx_graph, {prev_node:new_node for prev_node, new_node in zip(g.nx_graph.nodes, data.columns)})"
   ]
  },
  {
   "cell_type": "code",
   "execution_count": 40,
   "id": "5166b87e",
   "metadata": {},
   "outputs": [],
   "source": [
    "g.to_nx_graph()\n",
    "\n",
    "cg = g\n",
    "g = nx.relabel_nodes(g.nx_graph, {prev_node:new_node for prev_node, new_node in zip(g.nx_graph.nodes, data.columns)})"
   ]
  },
  {
   "cell_type": "markdown",
   "id": "788ffa5d",
   "metadata": {},
   "source": [
    "### Effect size estimation"
   ]
  },
  {
   "cell_type": "code",
   "execution_count": 195,
   "id": "9c67a8bb",
   "metadata": {},
   "outputs": [],
   "source": [
    "data = data.astype('float')\n",
    "df = data"
   ]
  },
  {
   "cell_type": "code",
   "execution_count": 197,
   "id": "dfe5afd3",
   "metadata": {},
   "outputs": [],
   "source": [
    "for i in range(1, 7):\n",
    "    df[f'PAY_{i}'] = (df[f'PAY_{i}'] > 0).astype('int')"
   ]
  },
  {
   "cell_type": "code",
   "execution_count": 1,
   "id": "b0c2fd85",
   "metadata": {},
   "outputs": [
    {
     "ename": "NameError",
     "evalue": "name 'identify_effect_auto' is not defined",
     "output_type": "error",
     "traceback": [
      "\u001b[1;31m---------------------------------------------------------------------------\u001b[0m",
      "\u001b[1;31mNameError\u001b[0m                                 Traceback (most recent call last)",
      "Cell \u001b[1;32mIn[1], line 4\u001b[0m\n\u001b[0;32m      1\u001b[0m tr \u001b[38;5;241m=\u001b[39m \u001b[38;5;124m'\u001b[39m\u001b[38;5;124mPAY_1\u001b[39m\u001b[38;5;124m'\u001b[39m\n\u001b[0;32m      2\u001b[0m eff \u001b[38;5;241m=\u001b[39m \u001b[38;5;124m'\u001b[39m\u001b[38;5;124mdef_pay\u001b[39m\u001b[38;5;124m'\u001b[39m\n\u001b[1;32m----> 4\u001b[0m estimand \u001b[38;5;241m=\u001b[39m \u001b[43midentify_effect_auto\u001b[49m(\n\u001b[0;32m      5\u001b[0m     graph\u001b[38;5;241m=\u001b[39mg,\n\u001b[0;32m      6\u001b[0m     action_nodes\u001b[38;5;241m=\u001b[39mtr,\n\u001b[0;32m      7\u001b[0m     outcome_nodes\u001b[38;5;241m=\u001b[39meff,\n\u001b[0;32m      8\u001b[0m     observed_nodes\u001b[38;5;241m=\u001b[39m\u001b[38;5;28mlist\u001b[39m(g\u001b[38;5;241m.\u001b[39mnodes), \n\u001b[0;32m      9\u001b[0m     estimand_type\u001b[38;5;241m=\u001b[39mEstimandType\u001b[38;5;241m.\u001b[39mNONPARAMETRIC_ATE,\n\u001b[0;32m     10\u001b[0m     backdoor_adjustment\u001b[38;5;241m=\u001b[39mBackdoorAdjustment\u001b[38;5;241m.\u001b[39mBACKDOOR_MAX\n\u001b[0;32m     11\u001b[0m )\n\u001b[0;32m     13\u001b[0m \u001b[38;5;28mprint\u001b[39m(estimand)\n",
      "\u001b[1;31mNameError\u001b[0m: name 'identify_effect_auto' is not defined"
     ]
    }
   ],
   "source": [
    "tr = 'PAY_1'\n",
    "eff = 'def_pay'\n",
    "\n",
    "estimand = identify_effect_auto(\n",
    "    graph=g,\n",
    "    action_nodes=tr,\n",
    "    outcome_nodes=eff,\n",
    "    observed_nodes=list(g.nodes), \n",
    "    estimand_type=EstimandType.NONPARAMETRIC_ATE,\n",
    "    backdoor_adjustment=BackdoorAdjustment.BACKDOOR_MAX\n",
    ")\n",
    "\n",
    "print(estimand)"
   ]
  },
  {
   "cell_type": "code",
   "execution_count": 222,
   "id": "efb0b371",
   "metadata": {},
   "outputs": [],
   "source": [
    "res = dict()"
   ]
  },
  {
   "cell_type": "code",
   "execution_count": 223,
   "id": "85d86dc9",
   "metadata": {},
   "outputs": [],
   "source": [
    "for est in [\n",
    "    LinearRegressionEstimator, \n",
    "    DistanceMatchingEstimator,  \n",
    "    PropensityScoreStratificationEstimator\n",
    "]:\n",
    "    estimator = est(\n",
    "        identified_estimand=estimand,\n",
    "    )\n",
    "    estimator.fit(\n",
    "        data=df\n",
    "    )\n",
    "    res[est.__name__] = estimator.estimate_effect(\n",
    "        data=df,\n",
    "        control_value=0,\n",
    "        treatment_value=1,\n",
    "        target_units=\"ate\",\n",
    "    )"
   ]
  },
  {
   "cell_type": "code",
   "execution_count": 215,
   "id": "ce36b174",
   "metadata": {},
   "outputs": [],
   "source": [
    "for est in [\n",
    "    PropensityScoreMatchingEstimator, \n",
    "    PropensityScoreWeightingEstimator,\n",
    "]:\n",
    "    estimator = est(\n",
    "        identified_estimand=estimand,\n",
    "    )\n",
    "    estimator.fit(\n",
    "        data=df\n",
    "    )\n",
    "    res[est.__name__] = estimator.estimate_effect(\n",
    "        data=df,\n",
    "        control_value=0,\n",
    "        treatment_value=1,\n",
    "        target_units=\"ate\",\n",
    "    )"
   ]
  },
  {
   "cell_type": "markdown",
   "id": "853e04e4",
   "metadata": {},
   "source": [
    "#### SLearner"
   ]
  },
  {
   "cell_type": "code",
   "execution_count": 217,
   "id": "9638242f",
   "metadata": {},
   "outputs": [],
   "source": [
    "from utils import RegressionWrapper, PropensityWrapper"
   ]
  },
  {
   "cell_type": "code",
   "execution_count": 218,
   "id": "50cea8d5",
   "metadata": {},
   "outputs": [],
   "source": [
    "estimator = Econml(\n",
    "    identified_estimand=estimand,\n",
    "    econml_estimator=SLearner(        \n",
    "        overall_model=RandomForestRegressor(random_state=42, max_depth=6)\n",
    "    )\n",
    ")\n",
    "estimator.fit(\n",
    "    data=df\n",
    ")\n",
    "res['SLearner'] = estimator.estimate_effect(\n",
    "    data=df,\n",
    "    control_value=0,\n",
    "    treatment_value=1,\n",
    "    target_units=\"ate\",\n",
    ")"
   ]
  },
  {
   "cell_type": "markdown",
   "id": "97b33e5b",
   "metadata": {},
   "source": [
    "#### TLearner"
   ]
  },
  {
   "cell_type": "code",
   "execution_count": 219,
   "id": "adc1928e",
   "metadata": {},
   "outputs": [],
   "source": [
    "estimator = Econml(\n",
    "    identified_estimand=estimand,\n",
    "    econml_estimator=TLearner(\n",
    "        models=RandomForestRegressor(random_state=42, max_depth=6),\n",
    "    ),\n",
    ")\n",
    "estimator.fit(\n",
    "    data=df\n",
    ")\n",
    "\n",
    "res['TLearner'] = estimator.estimate_effect(\n",
    "    data=df,\n",
    "    control_value=0,\n",
    "    treatment_value=1,\n",
    "    target_units=\"ate\",\n",
    ")"
   ]
  },
  {
   "cell_type": "markdown",
   "id": "540c51d8",
   "metadata": {},
   "source": [
    "#### XLearner"
   ]
  },
  {
   "cell_type": "code",
   "execution_count": 205,
   "id": "d26bd6e5",
   "metadata": {},
   "outputs": [],
   "source": [
    "estimator = Econml(\n",
    "    identified_estimand=estimand,\n",
    "    econml_estimator=XLearner(\n",
    "        models=RandomForestRegressor(random_state=42, max_depth=6),\n",
    "        cate_models=RandomForestRegressor(random_state=42, max_depth=6),\n",
    "        propensity_model=RandomForestClassifier(random_state=42, max_depth=6)\n",
    "    ),\n",
    ")\n",
    "estimator.fit(\n",
    "    data=df\n",
    ")\n",
    "\n",
    "res['XLearner'] = estimator.estimate_effect(\n",
    "    data=df,\n",
    "    control_value=0,\n",
    "    treatment_value=1,\n",
    "    target_units=\"ate\",\n",
    ")"
   ]
  },
  {
   "cell_type": "markdown",
   "id": "35d05732",
   "metadata": {},
   "source": [
    "#### DomainAdaptationLearner"
   ]
  },
  {
   "cell_type": "code",
   "execution_count": 206,
   "id": "536be025",
   "metadata": {},
   "outputs": [],
   "source": [
    "cv = KFold(n_splits=5, random_state=42, shuffle=True)\n",
    "estimator = Econml(\n",
    "    identified_estimand=estimand,\n",
    "    econml_estimator=DomainAdaptationLearner(\n",
    "        models=RandomForestRegressor(random_state=42, max_depth=6),\n",
    "        final_models=RandomForestRegressor(random_state=42, max_depth=6),\n",
    "        propensity_model=PropensityWrapper(CalibratedClassifierCV(RandomForestClassifier(random_state=42, max_depth=6), cv=cv))\n",
    "    ),\n",
    ")\n",
    "estimator.fit(\n",
    "    data=df\n",
    ")\n",
    "\n",
    "res['DALearner'] = estimator.estimate_effect(\n",
    "    data=df,\n",
    "    control_value=0,\n",
    "    treatment_value=1,\n",
    "    target_units=\"ate\",\n",
    ")"
   ]
  },
  {
   "cell_type": "markdown",
   "id": "0486cb32",
   "metadata": {},
   "source": [
    "#### DML"
   ]
  },
  {
   "cell_type": "code",
   "execution_count": 207,
   "id": "5e6939e0",
   "metadata": {},
   "outputs": [
    {
     "data": {
      "image/png": "[encoded data removed]",
      "text/latex": [
       "$\\displaystyle \\left[ \\right]$"
      ],
      "text/plain": [
       "[]"
      ]
     },
     "execution_count": 207,
     "metadata": {},
     "output_type": "execute_result"
    }
   ],
   "source": [
    "cg = CausalGraph(\n",
    "    treatment_name=tr, \n",
    "    outcome_name=eff,\n",
    "    graph=g\n",
    ")\n",
    "cg.get_effect_modifiers([tr], [eff])"
   ]
  },
  {
   "cell_type": "code",
   "execution_count": 208,
   "id": "9a8da193",
   "metadata": {},
   "outputs": [],
   "source": [
    "estimator = Econml(\n",
    "    identified_estimand=estimand,\n",
    "    econml_estimator=LinearDML(\n",
    "        model_y=RandomForestRegressor(random_state=42, max_depth=6),\n",
    "        model_t=RandomForestClassifier(random_state=42, max_depth=6),\n",
    "        featurizer=PolynomialFeatures(degree=3, include_bias=True),\n",
    "        discrete_treatment=True\n",
    "    ),\n",
    ")\n",
    "estimator.fit(\n",
    "    data=df,\n",
    "    effect_modifier_names=cg.get_effect_modifiers([tr], [eff]),\n",
    ")\n",
    "\n",
    "res['DML'] = estimator.estimate_effect(\n",
    "    data=df,\n",
    "    control_value=0,\n",
    "    treatment_value=1,\n",
    "    target_units=\"ate\",\n",
    ")"
   ]
  },
  {
   "cell_type": "markdown",
   "id": "67fbf667",
   "metadata": {},
   "source": [
    "#### DRLearner"
   ]
  },
  {
   "cell_type": "code",
   "execution_count": 209,
   "id": "06f516af",
   "metadata": {},
   "outputs": [],
   "source": [
    "cv = KFold(n_splits=5, random_state=42, shuffle=True)\n",
    "estimator = Econml(\n",
    "    identified_estimand=estimand,\n",
    "    econml_estimator=LinearDRLearner(\n",
    "        model_regression=RandomForestRegressor(random_state=42, max_depth=6),\n",
    "        model_propensity=PropensityWrapper(CalibratedClassifierCV(RandomForestClassifier(random_state=42, max_depth=6), cv=cv)),\n",
    "        featurizer=PolynomialFeatures(degree=3, include_bias=True)\n",
    "    ),\n",
    ")\n",
    "estimator.fit(\n",
    "    data=df,\n",
    "    effect_modifier_names=cg.get_effect_modifiers([tr], [eff]),\n",
    ")\n",
    "\n",
    "res['DR'] = estimator.estimate_effect(\n",
    "    data=df,\n",
    "    control_value=0,\n",
    "    treatment_value=1,\n",
    "    target_units=\"ate\",\n",
    ")"
   ]
  },
  {
   "cell_type": "markdown",
   "id": "2e752db6",
   "metadata": {},
   "source": [
    "#### Результаты"
   ]
  },
  {
   "cell_type": "code",
   "execution_count": 210,
   "id": "4f0df6fe",
   "metadata": {},
   "outputs": [
    {
     "name": "stdout",
     "output_type": "stream",
     "text": [
      "LinearRegressionEstimator 0.3130968851730703\n",
      "SLearner 0.362933556158329\n",
      "TLearner 0.37004214239834277\n",
      "XLearner 0.3632530488896904\n",
      "DistanceMatchingEstimator 0.3161514344469541\n",
      "PropensityScoreStratificationEstimator 0.3729361119889048\n",
      "PropensityScoreMatchingEstimator 0.2641674813741024\n",
      "PropensityScoreWeightingEstimator 0.21904466872029793\n",
      "DALearner 0.36984147548607926\n",
      "DML 0.2702556779444086\n",
      "DR 0.36453275415245173\n"
     ]
    }
   ],
   "source": [
    "for k, v in res.items():\n",
    "    print(k, v.value)"
   ]
  },
  {
   "cell_type": "code",
   "execution_count": 141,
   "id": "6745a513",
   "metadata": {},
   "outputs": [],
   "source": [
    "estimand.set_identifier_method('backdoor')"
   ]
  },
  {
   "cell_type": "code",
   "execution_count": 142,
   "id": "ae17d4bf",
   "metadata": {},
   "outputs": [
    {
     "name": "stderr",
     "output_type": "stream",
     "text": [
      "Refuting Estimates: 100%|\u001b[32m██████████\u001b[0m| 99/99 [00:05<00:00, 18.29it/s]"
     ]
    },
    {
     "name": "stdout",
     "output_type": "stream",
     "text": [
      "Refute: Bootstrap Sample Dataset\n",
      "Estimated effect:0.03958119115518702\n",
      "New effect:0.03872324600942011\n",
      "p value:0.434820805887834\n",
      "\n"
     ]
    },
    {
     "name": "stderr",
     "output_type": "stream",
     "text": [
      "\n"
     ]
    }
   ],
   "source": [
    "\n",
    "br = refute_bootstrap(\n",
    "    # запустить refute_bootstrap\n",
    "    # https://www.pywhy.org/dowhy/main/dowhy.causal_refuters.html#dowhy.causal_refuters.bootstrap_refuter.refute_bootstrap   \n",
    "    #  Указать: num_simulations=99\n",
    "    df, estimand, res['LinearRegressionEstimator'], show_progress_bar=True, num_simulations=99\n",
    ")\n",
    "print(br)"
   ]
  },
  {
   "cell_type": "code",
   "execution_count": 143,
   "id": "1be4f103",
   "metadata": {},
   "outputs": [
    {
     "name": "stderr",
     "output_type": "stream",
     "text": [
      "Refuting Estimates: 100%|\u001b[32m██████████\u001b[0m| 99/99 [00:04<00:00, 23.32it/s]"
     ]
    },
    {
     "name": "stdout",
     "output_type": "stream",
     "text": [
      "Refute: Use a subset of data\n",
      "Estimated effect:0.03958119115518702\n",
      "New effect:0.039985149865737944\n",
      "p value:0.43694870053540663\n",
      "\n"
     ]
    },
    {
     "name": "stderr",
     "output_type": "stream",
     "text": [
      "\n"
     ]
    }
   ],
   "source": [
    "sr = refute_data_subset(df, estimand, res['LinearRegressionEstimator'], num_simulations=99, show_progress_bar=True)\n",
    "print(sr)"
   ]
  },
  {
   "cell_type": "code",
   "execution_count": 147,
   "id": "0f1e5804",
   "metadata": {},
   "outputs": [
    {
     "name": "stderr",
     "output_type": "stream",
     "text": [
      "Refuting Estimates: 100%|\u001b[32m██████████\u001b[0m| 99/99 [00:04<00:00, 20.13it/s]"
     ]
    },
    {
     "name": "stdout",
     "output_type": "stream",
     "text": [
      "Refute: Use a Dummy Outcome\n",
      "Estimated effect:0\n",
      "New effect:-0.0009407067152714752\n",
      "p value:0.4702253544602577\n",
      "\n"
     ]
    },
    {
     "name": "stderr",
     "output_type": "stream",
     "text": [
      "\n"
     ]
    }
   ],
   "source": [
    "do_n_r = refute_dummy_outcome(\n",
    "    df, \n",
    "    estimand, \n",
    "    res['LinearRegressionEstimator'],\n",
    "    num_simulations=99, \n",
    "    outcome_name=eff,\n",
    "    treatment_name=[tr], \n",
    "    required_variables=True,\n",
    "    show_progress_bar=True\n",
    ")\n",
    "print(do_n_r[0])"
   ]
  },
  {
   "cell_type": "code",
   "execution_count": 148,
   "id": "3e5adb19",
   "metadata": {},
   "outputs": [
    {
     "name": "stderr",
     "output_type": "stream",
     "text": [
      "Refuting Estimates: 100%|\u001b[32m██████████\u001b[0m| 99/99 [00:04<00:00, 19.84it/s]"
     ]
    },
    {
     "name": "stdout",
     "output_type": "stream",
     "text": [
      "Refute: Use a Dummy Outcome\n",
      "Estimated effect:0\n",
      "New effect:-5.294590470451734e-05\n",
      "p value:0.496569337728166\n",
      "\n"
     ]
    },
    {
     "name": "stderr",
     "output_type": "stream",
     "text": [
      "\n"
     ]
    }
   ],
   "source": [
    "do_p_r = refute_dummy_outcome(\n",
    "    df, \n",
    "    estimand, \n",
    "    res['LinearRegressionEstimator'],\n",
    "    num_simulations=99, \n",
    "    outcome_name=eff,\n",
    "    treatment_name=[tr], \n",
    "    transformation_list=[(\"permute\", {\"permute_fraction\":1})],\n",
    "    required_variables=True,\n",
    "    show_progress_bar=True\n",
    ")\n",
    "print(do_p_r[0])"
   ]
  },
  {
   "cell_type": "code",
   "execution_count": 150,
   "id": "3eb0a6bc",
   "metadata": {},
   "outputs": [
    {
     "name": "stderr",
     "output_type": "stream",
     "text": [
      "Refuting Estimates: 100%|\u001b[32m██████████\u001b[0m| 99/99 [00:04<00:00, 20.07it/s]"
     ]
    },
    {
     "name": "stdout",
     "output_type": "stream",
     "text": [
      "Refute: Use a Placebo Treatment\n",
      "Estimated effect:0.03958119115518702\n",
      "New effect:0.0\n",
      "p value:nan\n",
      "\n"
     ]
    },
    {
     "name": "stderr",
     "output_type": "stream",
     "text": [
      "\n"
     ]
    }
   ],
   "source": [
    "ptr = refute_placebo_treatment(\n",
    "    #запустить\n",
    "    df, estimand, res['LinearRegressionEstimator'], treatment_names=[tr], num_simulations=99, show_progress_bar=True)\n",
    "print(ptr)"
   ]
  },
  {
   "cell_type": "code",
   "execution_count": 151,
   "id": "67559dff",
   "metadata": {},
   "outputs": [
    {
     "name": "stderr",
     "output_type": "stream",
     "text": [
      "Refuting Estimates: 100%|\u001b[32m██████████\u001b[0m| 99/99 [00:05<00:00, 19.29it/s]"
     ]
    },
    {
     "name": "stdout",
     "output_type": "stream",
     "text": [
      "Refute: Add a random common cause\n",
      "Estimated effect:0.03958119115518702\n",
      "New effect:0.039582559810278126\n",
      "p value:0.48171175634399804\n",
      "\n"
     ]
    },
    {
     "name": "stderr",
     "output_type": "stream",
     "text": [
      "\n"
     ]
    }
   ],
   "source": [
    "ccr = refute_random_common_cause(df, estimand, res['LinearRegressionEstimator'], num_simulations=99, show_progress_bar=True)\n",
    "print(ccr)"
   ]
  }
 ],
 "metadata": {
  "kernelspec": {
   "display_name": "Python 3 (ipykernel)",
   "language": "python",
   "name": "python3"
  },
  "language_info": {
   "codemirror_mode": {
    "name": "ipython",
    "version": 3
   },
   "file_extension": ".py",
   "mimetype": "text/x-python",
   "name": "python",
   "nbconvert_exporter": "python",
   "pygments_lexer": "ipython3",
   "version": "3.8.19"
  }
 },
 "nbformat": 4,
 "nbformat_minor": 5
}
